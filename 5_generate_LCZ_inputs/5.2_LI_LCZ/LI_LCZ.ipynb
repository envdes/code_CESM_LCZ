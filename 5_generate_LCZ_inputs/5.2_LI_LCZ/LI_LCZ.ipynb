{
 "cells": [
  {
   "cell_type": "markdown",
   "metadata": {},
   "source": [
    "# Surface data with 10 urbanunits\n",
    "- This script is used for creating surface data with 10 urban land units for each single point cities with LI et al.(2023) urban parameters;"
   ]
  },
  {
   "cell_type": "code",
   "execution_count": 1,
   "metadata": {},
   "outputs": [],
   "source": [
    "import xarray as xr\n",
    "import pandas as pd\n",
    "import numpy as np\n",
    "import os"
   ]
  },
  {
   "cell_type": "code",
   "execution_count": 2,
   "metadata": {},
   "outputs": [],
   "source": [
    "GRIDNAME=['AU-Pre', 'AU-Sur', 'CA-Sun', 'FI-Kum', 'FI-Tor', \n",
    "          'FR-Cap', 'GR-HEC', 'JP-Yoy', 'KR-Jun', 'KR-Och', \n",
    "          'MX-Esc', 'NL-Ams', 'PL-Lip', 'PL-Nar', 'SG-Tel', \n",
    "          'UK-Kin', 'UK-Swi', 'US-Bal', 'US-Mi1', 'US-Mi2', 'US-Wes']\n",
    "num_city = len(GRIDNAME)\n",
    "path = '/mnt/iusers01/fatpou01/sees01/a16404ys/CESM/bakeup/UrbanPlumber/input_files/'\n",
    "lcz_type = [[0,0,0,0,0,100,0,0,0,0],\n",
    "             [0,0,0,0,0,100,0,0,0,0],\n",
    "             [0,0,0,0,0,100,0,0,0,0],\n",
    "             [0,0,0,7.2,57.4,5.6,0,29.8,0,0],\n",
    "             [68.7,28.0,0,0,0,0,0,0,0,3.3],\n",
    "             [0,100,0,0,0,0,0,0,0,0],\n",
    "             [0,0,48.2,0,0,3.0,0,48.8,0,0],\n",
    "             [0,81.1,0,0,18.9,0,0,0,0,0],\n",
    "             [0,100,0,0,0,0,0,0,0,0],\n",
    "             [0,0,0,0,0,0,0,99.4,0,0.6],\n",
    "             [0,14.9,83.9,0,1.2,0,0,0,0,0],\n",
    "             [0,86.7,0,11.0,2.3,0,0,0,0,0],\n",
    "             [0,0.5,0,9.5,90.0,0,0,0,0,0],\n",
    "             [0,0,0,0,97.2,0,0,2.8,0,0],\n",
    "             [0,2.8,97.2,0,0,0,0,0,0,0],\n",
    "             [6.3,77,0,16.1,0,0,0,0,0,0.6],\n",
    "             [0,0,0,0,0,100,0,0,0,0],\n",
    "             [0,0,0,0,0,100,0,0,0,0],\n",
    "             [0,0,0,0,0,100,0,0,0,0],\n",
    "             [0,0,0,0,0,100,0,0,0,0],\n",
    "             [0,0,0,0,0,99.9,0,0.1,0,0]]"
   ]
  },
  {
   "cell_type": "code",
   "execution_count": 3,
   "metadata": {},
   "outputs": [],
   "source": [
    "default = {}\n",
    "for i in range(num_city):\n",
    "    folder = GRIDNAME[i] + '/'\n",
    "    filename = 'surfdata_1x1_'+GRIDNAME[i]+'_detailed_simyr2000_c230710.nc'\n",
    "    ds = xr.open_dataset(path + folder+ filename)\n",
    "    default['ds_' + GRIDNAME[i]] = xr.Dataset()\n",
    "    for var_name in ds.variables:\n",
    "        variable = ds[var_name]\n",
    "        if 'numurbl' in variable.dims:\n",
    "            default['ds_' + GRIDNAME[i]][var_name] = variable"
   ]
  },
  {
   "cell_type": "code",
   "execution_count": 4,
   "metadata": {},
   "outputs": [],
   "source": [
    "datasets = {}\n",
    "for i in range(num_city):\n",
    "    folder = GRIDNAME[i] + '/'\n",
    "    filename = 'surfdata_1x1_'+GRIDNAME[i]+'_detailed_simyr2000_c230710.nc'\n",
    "    ds = xr.open_dataset(path + folder+ filename)\n",
    "    datasets['ds_' + GRIDNAME[i]] = xr.Dataset()\n",
    "    for var_name in ds.variables:\n",
    "        variable = ds[var_name]\n",
    "        if 'numurbl' not in variable.dims:\n",
    "            datasets['ds_' + GRIDNAME[i]][var_name] = variable"
   ]
  },
  {
   "cell_type": "code",
   "execution_count": 5,
   "metadata": {},
   "outputs": [],
   "source": [
    "numurbl = 10\n",
    "lsmlat = 1 \n",
    "lsmlon = 1\n",
    "numrad = 2\n",
    "nlevurb = 5"
   ]
  },
  {
   "cell_type": "code",
   "execution_count": 6,
   "metadata": {},
   "outputs": [],
   "source": [
    "var1 = ['ALB_IMPROAD_DIF', 'ALB_IMPROAD_DIR', 'ALB_PERROAD_DIF', 'ALB_PERROAD_DIR', \n",
    "        'ALB_ROOF_DIF', 'ALB_ROOF_DIR', 'ALB_WALL_DIF', 'ALB_WALL_DIR']\n",
    "var2 = ['CANYON_HWR', 'HT_ROOF', 'WIND_HGT_CANYON', 'WTLUNIT_ROOF', 'WTROAD_PERV', 'WALL_TO_PLAN_AREA_RATIO']   \n",
    "var3 = ['TK_IMPROAD', 'TK_ROOF', 'TK_WALL', 'CV_ROOF', 'CV_WALL', 'CV_IMPROAD']\n",
    "var4 = ['NLEV_IMPROAD', 'THICK_ROOF', 'THICK_WALL', 'EM_IMPROAD', 'EM_PERROAD', 'EM_ROOF', 'EM_WALL', 'T_BUILDING_MIN']\n",
    "var5 = ['PCT_URBAN']\n",
    "\n",
    "for i in range(num_city):\n",
    "    for j in var1:\n",
    "        datasets['ds_' + GRIDNAME[i]][j] = (('numrad','numurbl', 'lsmlat', 'lsmlon'), np.zeros((numrad, numurbl, lsmlat, lsmlon)))  \n",
    "    for j in var2:\n",
    "        datasets['ds_' + GRIDNAME[i]][j] = (('numurbl', 'lsmlat', 'lsmlon'), np.zeros((numurbl, lsmlat, lsmlon)))   \n",
    "    for j in var3:\n",
    "        datasets['ds_' + GRIDNAME[i]][j] = (('nlevurb','numurbl', 'lsmlat', 'lsmlon'), np.zeros((nlevurb, numurbl, lsmlat, lsmlon))) \n",
    "    for j in var4:\n",
    "        datasets['ds_' + GRIDNAME[i]][j] = (('numurbl', 'lsmlat', 'lsmlon'), np.zeros((numurbl, lsmlat, lsmlon)))   \n",
    "    for j in var5:\n",
    "        datasets['ds_' + GRIDNAME[i]][j] = (('numurbl', 'lsmlat', 'lsmlon'), np.zeros((numurbl, lsmlat, lsmlon)))"
   ]
  },
  {
   "cell_type": "code",
   "execution_count": 7,
   "metadata": {},
   "outputs": [],
   "source": [
    "er_li = [0.91, 0.91, 0.91, 0.91, 0.91, 0.91, 0.88, 0.91, 0.91, 0.91] # emissivity\n",
    "ei_li = [0.91, 0.91, 0.91, 0.91, 0.91, 0.91, 0.88, 0.91, 0.91, 0.91]\n",
    "\n",
    "lr_li = [1.70 , 1.70 , 1.09 , 1.25 , 1.70 , 1.09 , 0.50 , 1.07 , 1.09 , 2.00]\n",
    "lw_li = [1.27 , 2.60 , 1.66 , 1.45 , 1.88 , 1.66 , 0.18 , 1.07 , 1.66 , 1.42]\n",
    "li_li = [0.78 , 0.78 , 0.78 , 0.78 , 0.78 , 0.78 , 0.78 , 0.78 , 0.78 , 0.78] # TK imperoad\n",
    "\n",
    "cr_li = [1.32 , 1.32 , 1.32 , 1.80 , 1.32 , 1.32 , 2.00 , 2.11 , 1.32 , 2.00] # CV_ROOF\n",
    "cw_li = [1.54 , 1.54 , 1.54 , 2.00 , 1.54 , 1.54 , 2.00 , 2.11 , 1.54 , 1.59] # CV_WALL\n",
    "ci_li = [1.85 , 1.85 , 1.85 , 1.85 , 1.85 , 1.85 , 1.85 , 1.85 , 1.85 , 1.85] #CV_IMPROAD: volumetric heat capacity\n",
    "\n",
    "zr_li = [0.30 , 0.30 , 0.20 , 0.30 , 0.25 , 0.15 , 0.10 , 0.12 , 0.15 , 0.05] # THICK_ROOF\n",
    "zw_li= [0.30 , 0.25 , 0.25 , 0.20 , 0.20 , 0.20 , 0.10 , 0.20 , 0.20 , 0.05] # 'THICK_WALL\n",
    "\n",
    "ew = [0.90, 0.90, 0.90, 0.90, 0.90, 0.90, 0.90, 0.90, 0.90, 0.90]\n",
    "ep = [0.95, 0.95, 0.95, 0.95, 0.95, 0.95, 0.95, 0.95, 0.95, 0.95]\n",
    "tmin = [283.15, 283.15, 283.15, 283.15, 283.15, 283.15, 283.15, 283.15, 283.15, 283.15] # T_BUILDING_MIN\n",
    "nlev = [3,2,2,2,3,2,2,2,2,2] # NLEV_IMPROAD\n",
    "\n",
    "crr_li = [x * 1000000 for x in cr_li]\n",
    "cww_li = [x * 1000000 for x in cw_li]\n",
    "cii_li = [x * 1000000 for x in ci_li]\n",
    "ucp3_li = [li_li, lr_li, lw_li, crr_li, cww_li, cii_li]\n",
    "ucp4_li = [nlev, zr_li, zw_li, ei_li, ep, er_li, ew, tmin]"
   ]
  },
  {
   "cell_type": "code",
   "execution_count": 9,
   "metadata": {},
   "outputs": [],
   "source": [
    "# LI LCZ-table export surface data\n",
    "for i in range(num_city):\n",
    "    for j in var1:\n",
    "        for m in range(10):\n",
    "            datasets['ds_' + GRIDNAME[i]][j][:, m, :, :] = default['ds_' + GRIDNAME[i]][j][:, 2, :, :]\n",
    "\n",
    "    for j in var2:\n",
    "        for m in range(10):\n",
    "                datasets['ds_' + GRIDNAME[i]][j][m, :, :] = default['ds_' + GRIDNAME[i]][j][2, :, :]\n",
    "\n",
    "    for j in range(len(var3)):\n",
    "        for m in range(10):\n",
    "            datasets['ds_' + GRIDNAME[i]][var3[j]][:, m, :, :] = ucp3_li[j][m]\n",
    "\n",
    "    for j in range(len(var4)):\n",
    "        for m in range(10):\n",
    "            datasets['ds_' + GRIDNAME[i]][var4[j]][m, :, :] = ucp4_li[j][m]\n",
    "           \n",
    "    for j in range(len(var5)):\n",
    "        for m in range(10):\n",
    "            datasets['ds_' + GRIDNAME[i]][var5[j]][m, :, :] = lcz_type[i][m]\n",
    "            \n",
    "for i in range(num_city):\n",
    "    output = path + GRIDNAME[i] +'/surfdata_1x1_'+GRIDNAME[i]+'_detailed_simyr2000_c240508li.nc'\n",
    "    if os.path.exists(output):\n",
    "        os.remove(output)\n",
    "    datasets['ds_' + GRIDNAME[i]].to_netcdf(output)  "
   ]
  },
  {
   "cell_type": "code",
   "execution_count": null,
   "metadata": {},
   "outputs": [],
   "source": []
  }
 ],
 "metadata": {
  "kernelspec": {
   "display_name": "Environment (yuanenv)",
   "language": "python",
   "name": "yuanenv"
  },
  "language_info": {
   "codemirror_mode": {
    "name": "ipython",
    "version": 3
   },
   "file_extension": ".py",
   "mimetype": "text/x-python",
   "name": "python",
   "nbconvert_exporter": "python",
   "pygments_lexer": "ipython3",
   "version": "3.12.2"
  }
 },
 "nbformat": 4,
 "nbformat_minor": 2
}
